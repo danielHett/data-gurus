{
 "cells": [
  {
   "cell_type": "code",
   "execution_count": 7,
   "id": "0c6c6c76",
   "metadata": {},
   "outputs": [],
   "source": [
    "#package and library\n",
    "import pandas as pd\n",
    "import numpy as np\n",
    "\n",
    "pd.set_option('display.max_columns', 500)\n",
    "pd.set_option('display.max_rows', 500)\n",
    "pd.set_option('display.width', 1000)"
   ]
  },
  {
   "cell_type": "markdown",
   "id": "4f550521",
   "metadata": {},
   "source": [
    "# Training data (preprocessing)"
   ]
  },
  {
   "cell_type": "code",
   "execution_count": null,
   "id": "6c608b7a",
   "metadata": {},
   "outputs": [
    {
     "name": "stderr",
     "output_type": "stream",
     "text": [
      "/var/folders/c5/3sw9j_052v3bcylbyvj179m40000gn/T/ipykernel_18301/639268758.py:1: DtypeWarning: Columns (51) have mixed types. Specify dtype option on import or set low_memory=False.\n",
      "  df1 = pd.read_csv('training_data.csv')\n"
     ]
    }
   ],
   "source": [
    "df1 = pd.read_csv('training_data.csv')\n",
    "df1.head()"
   ]
  },
  {
   "cell_type": "code",
   "execution_count": 9,
   "id": "61b22c0a",
   "metadata": {},
   "outputs": [
    {
     "data": {
      "text/plain": [
       "(5758223, 69)"
      ]
     },
     "execution_count": 9,
     "metadata": {},
     "output_type": "execute_result"
    }
   ],
   "source": [
    "df1.shape # before removing null values"
   ]
  },
  {
   "cell_type": "code",
   "execution_count": 10,
   "id": "acdabf60",
   "metadata": {},
   "outputs": [
    {
     "data": {
      "text/plain": [
       "financial_active                       0\n",
       "net_payment_behaviour_tripd            0\n",
       "promotion_flag                         0\n",
       "variable_rate_index                    0\n",
       "account_status_code                    0\n",
       "active_12_mths                         0\n",
       "bank_fico_buckets_20                   0\n",
       "charge_off_reason_code           5758209\n",
       "mob                                    0\n",
       "open_closed_flag                       4\n",
       "ever_delinquent_flg                    0\n",
       "nbr_mths_due                           0\n",
       "variable_rate_margin             4208656\n",
       "stmt_balance                           0\n",
       "prev_balance                           0\n",
       "net_sales                              0\n",
       "net_payments                           0\n",
       "purchase_active                        0\n",
       "credit_limit_amt                       0\n",
       "credit_limit_pa                        0\n",
       "closed                                 0\n",
       "active                                 0\n",
       "charge_off                             0\n",
       "charge_off_aged                        0\n",
       "charge_off_bk                          0\n",
       "principal_amt                          0\n",
       "principal_amt_chrg_off                 0\n",
       "total_writeoff_amt                     0\n",
       "fee_chg_off_reversal_amt               0\n",
       "net_finance_charge                156606\n",
       "non_principal_amount_gross             0\n",
       "non_principal_amount_net               0\n",
       "non_principal_amount_stmt              0\n",
       "aged_writeoff_amt                      0\n",
       "bankruptcy_writeoff_amt                0\n",
       "fc_reversals                           0\n",
       "fee_reversals                          0\n",
       "fraud_writeoff_amt                     0\n",
       "other_writeoff_amt                     0\n",
       "promo_bal_amt                          0\n",
       "recovery_amt                           0\n",
       "writeoff_type_bko                      0\n",
       "writeoff_type_fraud_kiting             0\n",
       "writeoff_type_fraud_synthetic          0\n",
       "writeoff_type_deceased                 0\n",
       "writeoff_type_other                    0\n",
       "writeoff_type_aged                     0\n",
       "writeoff_type_settlement               0\n",
       "writeoff_type_fraud_other              0\n",
       "writeoff_type_repo                     0\n",
       "writeoff_type_null                     0\n",
       "writeoff_date                    5728673\n",
       "due_account_2                          0\n",
       "due_account_3                          0\n",
       "due_account_4                          0\n",
       "due_account_5                          0\n",
       "due_account_6                          0\n",
       "due_account_7                          0\n",
       "due_account_8                          0\n",
       "due_balance_2                          0\n",
       "due_balance_3                          0\n",
       "due_balance_4                          0\n",
       "due_balance_5                          0\n",
       "due_balance_6                          0\n",
       "due_balance_7                          0\n",
       "due_balance_8                          0\n",
       "snapshot                               0\n",
       "mth_code                               0\n",
       "industry                               0\n",
       "dtype: int64"
      ]
     },
     "execution_count": 10,
     "metadata": {},
     "output_type": "execute_result"
    }
   ],
   "source": [
    "df1.isna().sum()"
   ]
  },
  {
   "cell_type": "code",
   "execution_count": 11,
   "id": "aefc06de",
   "metadata": {},
   "outputs": [
    {
     "name": "stdout",
     "output_type": "stream",
     "text": [
      "(5758223, 64)\n"
     ]
    },
    {
     "data": {
      "text/html": [
       "<div>\n",
       "<style scoped>\n",
       "    .dataframe tbody tr th:only-of-type {\n",
       "        vertical-align: middle;\n",
       "    }\n",
       "\n",
       "    .dataframe tbody tr th {\n",
       "        vertical-align: top;\n",
       "    }\n",
       "\n",
       "    .dataframe thead th {\n",
       "        text-align: right;\n",
       "    }\n",
       "</style>\n",
       "<table border=\"1\" class=\"dataframe\">\n",
       "  <thead>\n",
       "    <tr style=\"text-align: right;\">\n",
       "      <th></th>\n",
       "      <th>financial_active</th>\n",
       "      <th>net_payment_behaviour_tripd</th>\n",
       "      <th>promotion_flag</th>\n",
       "      <th>variable_rate_index</th>\n",
       "      <th>account_status_code</th>\n",
       "      <th>active_12_mths</th>\n",
       "      <th>bank_fico_buckets_20</th>\n",
       "      <th>mob</th>\n",
       "      <th>ever_delinquent_flg</th>\n",
       "      <th>nbr_mths_due</th>\n",
       "      <th>stmt_balance</th>\n",
       "      <th>prev_balance</th>\n",
       "      <th>net_sales</th>\n",
       "      <th>net_payments</th>\n",
       "      <th>purchase_active</th>\n",
       "      <th>credit_limit_amt</th>\n",
       "      <th>credit_limit_pa</th>\n",
       "      <th>closed</th>\n",
       "      <th>active</th>\n",
       "      <th>charge_off</th>\n",
       "      <th>charge_off_aged</th>\n",
       "      <th>charge_off_bk</th>\n",
       "      <th>principal_amt</th>\n",
       "      <th>principal_amt_chrg_off</th>\n",
       "      <th>total_writeoff_amt</th>\n",
       "      <th>fee_chg_off_reversal_amt</th>\n",
       "      <th>non_principal_amount_gross</th>\n",
       "      <th>non_principal_amount_net</th>\n",
       "      <th>non_principal_amount_stmt</th>\n",
       "      <th>aged_writeoff_amt</th>\n",
       "      <th>bankruptcy_writeoff_amt</th>\n",
       "      <th>fc_reversals</th>\n",
       "      <th>fee_reversals</th>\n",
       "      <th>fraud_writeoff_amt</th>\n",
       "      <th>other_writeoff_amt</th>\n",
       "      <th>promo_bal_amt</th>\n",
       "      <th>recovery_amt</th>\n",
       "      <th>writeoff_type_bko</th>\n",
       "      <th>writeoff_type_fraud_kiting</th>\n",
       "      <th>writeoff_type_fraud_synthetic</th>\n",
       "      <th>writeoff_type_deceased</th>\n",
       "      <th>writeoff_type_other</th>\n",
       "      <th>writeoff_type_aged</th>\n",
       "      <th>writeoff_type_settlement</th>\n",
       "      <th>writeoff_type_fraud_other</th>\n",
       "      <th>writeoff_type_repo</th>\n",
       "      <th>writeoff_type_null</th>\n",
       "      <th>due_account_2</th>\n",
       "      <th>due_account_3</th>\n",
       "      <th>due_account_4</th>\n",
       "      <th>due_account_5</th>\n",
       "      <th>due_account_6</th>\n",
       "      <th>due_account_7</th>\n",
       "      <th>due_account_8</th>\n",
       "      <th>due_balance_2</th>\n",
       "      <th>due_balance_3</th>\n",
       "      <th>due_balance_4</th>\n",
       "      <th>due_balance_5</th>\n",
       "      <th>due_balance_6</th>\n",
       "      <th>due_balance_7</th>\n",
       "      <th>due_balance_8</th>\n",
       "      <th>snapshot</th>\n",
       "      <th>mth_code</th>\n",
       "      <th>industry</th>\n",
       "    </tr>\n",
       "  </thead>\n",
       "  <tbody>\n",
       "    <tr>\n",
       "      <th>0</th>\n",
       "      <td>1.0</td>\n",
       "      <td>P</td>\n",
       "      <td>0</td>\n",
       "      <td>0</td>\n",
       "      <td>I 0-6</td>\n",
       "      <td>1.0</td>\n",
       "      <td>581-600</td>\n",
       "      <td>3</td>\n",
       "      <td>0.0</td>\n",
       "      <td>0.0</td>\n",
       "      <td>34.77</td>\n",
       "      <td>1918.32</td>\n",
       "      <td>54.25</td>\n",
       "      <td>0.00</td>\n",
       "      <td>0.0</td>\n",
       "      <td>5900.0</td>\n",
       "      <td>2500.0</td>\n",
       "      <td>0</td>\n",
       "      <td>1</td>\n",
       "      <td>0</td>\n",
       "      <td>0</td>\n",
       "      <td>0</td>\n",
       "      <td>301.97</td>\n",
       "      <td>0.0</td>\n",
       "      <td>0.0</td>\n",
       "      <td>0.0</td>\n",
       "      <td>1045.23</td>\n",
       "      <td>0.0</td>\n",
       "      <td>0.0</td>\n",
       "      <td>0.0</td>\n",
       "      <td>0.0</td>\n",
       "      <td>0.0</td>\n",
       "      <td>0.0</td>\n",
       "      <td>0.0</td>\n",
       "      <td>0.0</td>\n",
       "      <td>0.00</td>\n",
       "      <td>0.0</td>\n",
       "      <td>0</td>\n",
       "      <td>0</td>\n",
       "      <td>0</td>\n",
       "      <td>0</td>\n",
       "      <td>0</td>\n",
       "      <td>0</td>\n",
       "      <td>0</td>\n",
       "      <td>0</td>\n",
       "      <td>0</td>\n",
       "      <td>1</td>\n",
       "      <td>0.0</td>\n",
       "      <td>0.0</td>\n",
       "      <td>0.0</td>\n",
       "      <td>0.0</td>\n",
       "      <td>0.0</td>\n",
       "      <td>0.0</td>\n",
       "      <td>0.0</td>\n",
       "      <td>0.0</td>\n",
       "      <td>0.0</td>\n",
       "      <td>0.0</td>\n",
       "      <td>0.0</td>\n",
       "      <td>0.0</td>\n",
       "      <td>0.0</td>\n",
       "      <td>0.0</td>\n",
       "      <td>201801</td>\n",
       "      <td>201807</td>\n",
       "      <td>B</td>\n",
       "    </tr>\n",
       "    <tr>\n",
       "      <th>1</th>\n",
       "      <td>0.0</td>\n",
       "      <td>P</td>\n",
       "      <td>0</td>\n",
       "      <td>0</td>\n",
       "      <td>I 0-6</td>\n",
       "      <td>1.0</td>\n",
       "      <td>721-740</td>\n",
       "      <td>159</td>\n",
       "      <td>0.0</td>\n",
       "      <td>0.0</td>\n",
       "      <td>0.00</td>\n",
       "      <td>0.00</td>\n",
       "      <td>0.00</td>\n",
       "      <td>0.00</td>\n",
       "      <td>0.0</td>\n",
       "      <td>5000.0</td>\n",
       "      <td>11400.0</td>\n",
       "      <td>0</td>\n",
       "      <td>1</td>\n",
       "      <td>0</td>\n",
       "      <td>0</td>\n",
       "      <td>0</td>\n",
       "      <td>510.16</td>\n",
       "      <td>0.0</td>\n",
       "      <td>0.0</td>\n",
       "      <td>0.0</td>\n",
       "      <td>0.00</td>\n",
       "      <td>0.0</td>\n",
       "      <td>0.0</td>\n",
       "      <td>0.0</td>\n",
       "      <td>0.0</td>\n",
       "      <td>0.0</td>\n",
       "      <td>0.0</td>\n",
       "      <td>0.0</td>\n",
       "      <td>0.0</td>\n",
       "      <td>1557.24</td>\n",
       "      <td>0.0</td>\n",
       "      <td>0</td>\n",
       "      <td>0</td>\n",
       "      <td>0</td>\n",
       "      <td>0</td>\n",
       "      <td>0</td>\n",
       "      <td>0</td>\n",
       "      <td>0</td>\n",
       "      <td>0</td>\n",
       "      <td>0</td>\n",
       "      <td>1</td>\n",
       "      <td>0.0</td>\n",
       "      <td>0.0</td>\n",
       "      <td>0.0</td>\n",
       "      <td>0.0</td>\n",
       "      <td>0.0</td>\n",
       "      <td>0.0</td>\n",
       "      <td>0.0</td>\n",
       "      <td>0.0</td>\n",
       "      <td>0.0</td>\n",
       "      <td>0.0</td>\n",
       "      <td>0.0</td>\n",
       "      <td>0.0</td>\n",
       "      <td>0.0</td>\n",
       "      <td>0.0</td>\n",
       "      <td>201801</td>\n",
       "      <td>201906</td>\n",
       "      <td>C</td>\n",
       "    </tr>\n",
       "    <tr>\n",
       "      <th>2</th>\n",
       "      <td>1.0</td>\n",
       "      <td>T</td>\n",
       "      <td>0</td>\n",
       "      <td>0</td>\n",
       "      <td>I 7-12</td>\n",
       "      <td>1.0</td>\n",
       "      <td>761+</td>\n",
       "      <td>22</td>\n",
       "      <td>0.0</td>\n",
       "      <td>0.0</td>\n",
       "      <td>0.00</td>\n",
       "      <td>0.00</td>\n",
       "      <td>0.00</td>\n",
       "      <td>104.00</td>\n",
       "      <td>0.0</td>\n",
       "      <td>3100.0</td>\n",
       "      <td>0.0</td>\n",
       "      <td>0</td>\n",
       "      <td>1</td>\n",
       "      <td>0</td>\n",
       "      <td>0</td>\n",
       "      <td>0</td>\n",
       "      <td>0.00</td>\n",
       "      <td>0.0</td>\n",
       "      <td>0.0</td>\n",
       "      <td>0.0</td>\n",
       "      <td>261.39</td>\n",
       "      <td>0.0</td>\n",
       "      <td>0.0</td>\n",
       "      <td>0.0</td>\n",
       "      <td>0.0</td>\n",
       "      <td>0.0</td>\n",
       "      <td>0.0</td>\n",
       "      <td>0.0</td>\n",
       "      <td>0.0</td>\n",
       "      <td>0.00</td>\n",
       "      <td>0.0</td>\n",
       "      <td>0</td>\n",
       "      <td>0</td>\n",
       "      <td>0</td>\n",
       "      <td>0</td>\n",
       "      <td>0</td>\n",
       "      <td>0</td>\n",
       "      <td>0</td>\n",
       "      <td>0</td>\n",
       "      <td>0</td>\n",
       "      <td>1</td>\n",
       "      <td>0.0</td>\n",
       "      <td>0.0</td>\n",
       "      <td>0.0</td>\n",
       "      <td>0.0</td>\n",
       "      <td>0.0</td>\n",
       "      <td>0.0</td>\n",
       "      <td>0.0</td>\n",
       "      <td>0.0</td>\n",
       "      <td>0.0</td>\n",
       "      <td>0.0</td>\n",
       "      <td>0.0</td>\n",
       "      <td>0.0</td>\n",
       "      <td>0.0</td>\n",
       "      <td>0.0</td>\n",
       "      <td>201801</td>\n",
       "      <td>201905</td>\n",
       "      <td>A</td>\n",
       "    </tr>\n",
       "    <tr>\n",
       "      <th>3</th>\n",
       "      <td>1.0</td>\n",
       "      <td>T</td>\n",
       "      <td>0</td>\n",
       "      <td>1</td>\n",
       "      <td>I 0-6</td>\n",
       "      <td>1.0</td>\n",
       "      <td>761+</td>\n",
       "      <td>16</td>\n",
       "      <td>1.0</td>\n",
       "      <td>0.0</td>\n",
       "      <td>0.00</td>\n",
       "      <td>0.00</td>\n",
       "      <td>0.00</td>\n",
       "      <td>859.57</td>\n",
       "      <td>1.0</td>\n",
       "      <td>700.0</td>\n",
       "      <td>0.0</td>\n",
       "      <td>0</td>\n",
       "      <td>1</td>\n",
       "      <td>0</td>\n",
       "      <td>0</td>\n",
       "      <td>0</td>\n",
       "      <td>0.00</td>\n",
       "      <td>0.0</td>\n",
       "      <td>0.0</td>\n",
       "      <td>0.0</td>\n",
       "      <td>0.30</td>\n",
       "      <td>0.0</td>\n",
       "      <td>40.0</td>\n",
       "      <td>0.0</td>\n",
       "      <td>0.0</td>\n",
       "      <td>0.0</td>\n",
       "      <td>0.0</td>\n",
       "      <td>0.0</td>\n",
       "      <td>0.0</td>\n",
       "      <td>0.00</td>\n",
       "      <td>0.0</td>\n",
       "      <td>0</td>\n",
       "      <td>0</td>\n",
       "      <td>0</td>\n",
       "      <td>0</td>\n",
       "      <td>0</td>\n",
       "      <td>0</td>\n",
       "      <td>0</td>\n",
       "      <td>0</td>\n",
       "      <td>0</td>\n",
       "      <td>1</td>\n",
       "      <td>1.0</td>\n",
       "      <td>0.0</td>\n",
       "      <td>0.0</td>\n",
       "      <td>0.0</td>\n",
       "      <td>0.0</td>\n",
       "      <td>0.0</td>\n",
       "      <td>0.0</td>\n",
       "      <td>0.0</td>\n",
       "      <td>0.0</td>\n",
       "      <td>0.0</td>\n",
       "      <td>0.0</td>\n",
       "      <td>0.0</td>\n",
       "      <td>0.0</td>\n",
       "      <td>0.0</td>\n",
       "      <td>201801</td>\n",
       "      <td>201806</td>\n",
       "      <td>B</td>\n",
       "    </tr>\n",
       "    <tr>\n",
       "      <th>4</th>\n",
       "      <td>1.0</td>\n",
       "      <td>P</td>\n",
       "      <td>0</td>\n",
       "      <td>0</td>\n",
       "      <td>A</td>\n",
       "      <td>0.0</td>\n",
       "      <td>721-740</td>\n",
       "      <td>3</td>\n",
       "      <td>0.0</td>\n",
       "      <td>2.0</td>\n",
       "      <td>0.00</td>\n",
       "      <td>0.00</td>\n",
       "      <td>0.00</td>\n",
       "      <td>0.00</td>\n",
       "      <td>0.0</td>\n",
       "      <td>3500.0</td>\n",
       "      <td>0.0</td>\n",
       "      <td>0</td>\n",
       "      <td>1</td>\n",
       "      <td>0</td>\n",
       "      <td>0</td>\n",
       "      <td>0</td>\n",
       "      <td>0.00</td>\n",
       "      <td>0.0</td>\n",
       "      <td>0.0</td>\n",
       "      <td>0.0</td>\n",
       "      <td>0.00</td>\n",
       "      <td>31.0</td>\n",
       "      <td>0.0</td>\n",
       "      <td>0.0</td>\n",
       "      <td>0.0</td>\n",
       "      <td>0.0</td>\n",
       "      <td>0.0</td>\n",
       "      <td>0.0</td>\n",
       "      <td>0.0</td>\n",
       "      <td>960.00</td>\n",
       "      <td>0.0</td>\n",
       "      <td>0</td>\n",
       "      <td>0</td>\n",
       "      <td>0</td>\n",
       "      <td>0</td>\n",
       "      <td>0</td>\n",
       "      <td>0</td>\n",
       "      <td>0</td>\n",
       "      <td>0</td>\n",
       "      <td>0</td>\n",
       "      <td>1</td>\n",
       "      <td>0.0</td>\n",
       "      <td>0.0</td>\n",
       "      <td>0.0</td>\n",
       "      <td>0.0</td>\n",
       "      <td>0.0</td>\n",
       "      <td>0.0</td>\n",
       "      <td>0.0</td>\n",
       "      <td>0.0</td>\n",
       "      <td>0.0</td>\n",
       "      <td>0.0</td>\n",
       "      <td>0.0</td>\n",
       "      <td>0.0</td>\n",
       "      <td>0.0</td>\n",
       "      <td>0.0</td>\n",
       "      <td>201801</td>\n",
       "      <td>201902</td>\n",
       "      <td>B</td>\n",
       "    </tr>\n",
       "  </tbody>\n",
       "</table>\n",
       "</div>"
      ],
      "text/plain": [
       "   financial_active net_payment_behaviour_tripd  promotion_flag  variable_rate_index account_status_code  active_12_mths bank_fico_buckets_20  mob  ever_delinquent_flg  nbr_mths_due  stmt_balance  prev_balance  net_sales  net_payments  purchase_active  credit_limit_amt  credit_limit_pa  closed  active  charge_off  charge_off_aged  charge_off_bk  principal_amt  principal_amt_chrg_off  total_writeoff_amt  fee_chg_off_reversal_amt  non_principal_amount_gross  non_principal_amount_net  non_principal_amount_stmt  aged_writeoff_amt  bankruptcy_writeoff_amt  fc_reversals  fee_reversals  fraud_writeoff_amt  other_writeoff_amt  promo_bal_amt  recovery_amt  writeoff_type_bko  writeoff_type_fraud_kiting  writeoff_type_fraud_synthetic  writeoff_type_deceased  writeoff_type_other  writeoff_type_aged  writeoff_type_settlement  writeoff_type_fraud_other  writeoff_type_repo  writeoff_type_null  due_account_2  due_account_3  due_account_4  due_account_5  due_account_6  due_account_7  due_account_8  \\\n",
       "0               1.0                           P               0                    0               I 0-6             1.0              581-600    3                  0.0           0.0         34.77       1918.32      54.25          0.00              0.0            5900.0           2500.0       0       1           0                0              0         301.97                     0.0                 0.0                       0.0                     1045.23                       0.0                        0.0                0.0                      0.0           0.0            0.0                 0.0                 0.0           0.00           0.0                  0                           0                              0                       0                    0                   0                         0                          0                   0                   1            0.0            0.0            0.0            0.0            0.0            0.0            0.0   \n",
       "1               0.0                           P               0                    0               I 0-6             1.0              721-740  159                  0.0           0.0          0.00          0.00       0.00          0.00              0.0            5000.0          11400.0       0       1           0                0              0         510.16                     0.0                 0.0                       0.0                        0.00                       0.0                        0.0                0.0                      0.0           0.0            0.0                 0.0                 0.0        1557.24           0.0                  0                           0                              0                       0                    0                   0                         0                          0                   0                   1            0.0            0.0            0.0            0.0            0.0            0.0            0.0   \n",
       "2               1.0                           T               0                    0              I 7-12             1.0                 761+   22                  0.0           0.0          0.00          0.00       0.00        104.00              0.0            3100.0              0.0       0       1           0                0              0           0.00                     0.0                 0.0                       0.0                      261.39                       0.0                        0.0                0.0                      0.0           0.0            0.0                 0.0                 0.0           0.00           0.0                  0                           0                              0                       0                    0                   0                         0                          0                   0                   1            0.0            0.0            0.0            0.0            0.0            0.0            0.0   \n",
       "3               1.0                           T               0                    1               I 0-6             1.0                 761+   16                  1.0           0.0          0.00          0.00       0.00        859.57              1.0             700.0              0.0       0       1           0                0              0           0.00                     0.0                 0.0                       0.0                        0.30                       0.0                       40.0                0.0                      0.0           0.0            0.0                 0.0                 0.0           0.00           0.0                  0                           0                              0                       0                    0                   0                         0                          0                   0                   1            1.0            0.0            0.0            0.0            0.0            0.0            0.0   \n",
       "4               1.0                           P               0                    0                   A             0.0              721-740    3                  0.0           2.0          0.00          0.00       0.00          0.00              0.0            3500.0              0.0       0       1           0                0              0           0.00                     0.0                 0.0                       0.0                        0.00                      31.0                        0.0                0.0                      0.0           0.0            0.0                 0.0                 0.0         960.00           0.0                  0                           0                              0                       0                    0                   0                         0                          0                   0                   1            0.0            0.0            0.0            0.0            0.0            0.0            0.0   \n",
       "\n",
       "   due_balance_2  due_balance_3  due_balance_4  due_balance_5  due_balance_6  due_balance_7  due_balance_8  snapshot  mth_code industry  \n",
       "0            0.0            0.0            0.0            0.0            0.0            0.0            0.0    201801    201807        B  \n",
       "1            0.0            0.0            0.0            0.0            0.0            0.0            0.0    201801    201906        C  \n",
       "2            0.0            0.0            0.0            0.0            0.0            0.0            0.0    201801    201905        A  \n",
       "3            0.0            0.0            0.0            0.0            0.0            0.0            0.0    201801    201806        B  \n",
       "4            0.0            0.0            0.0            0.0            0.0            0.0            0.0    201801    201902        B  "
      ]
     },
     "execution_count": 11,
     "metadata": {},
     "output_type": "execute_result"
    }
   ],
   "source": [
    "#removing na values if any, more than 30%\n",
    "\n",
    "\n",
    "df_1=df1.dropna(axis=1)\n",
    "\n",
    "print(df_1.shape)\n",
    "df_1.head()"
   ]
  },
  {
   "cell_type": "code",
   "execution_count": 12,
   "id": "ae3317d2",
   "metadata": {},
   "outputs": [],
   "source": [
    "r=list(df_1.columns)"
   ]
  },
  {
   "cell_type": "code",
   "execution_count": 13,
   "id": "c9a38068",
   "metadata": {},
   "outputs": [
    {
     "name": "stdout",
     "output_type": "stream",
     "text": [
      "5742525\n",
      "15698\n"
     ]
    }
   ],
   "source": [
    "#checking ratio of charge_off 1 and 0\n",
    "print(list(df_1['charge_off']).count(0))\n",
    "print(list(df_1['charge_off']).count(1))\n",
    "\n"
   ]
  },
  {
   "cell_type": "code",
   "execution_count": 14,
   "id": "fc20750f",
   "metadata": {},
   "outputs": [
    {
     "data": {
      "text/plain": [
       "financial_active                 0\n",
       "net_payment_behaviour_tripd      0\n",
       "promotion_flag                   0\n",
       "variable_rate_index              0\n",
       "account_status_code              0\n",
       "active_12_mths                   0\n",
       "bank_fico_buckets_20             0\n",
       "mob                              0\n",
       "ever_delinquent_flg              0\n",
       "nbr_mths_due                     0\n",
       "stmt_balance                     0\n",
       "prev_balance                     0\n",
       "net_sales                        0\n",
       "net_payments                     0\n",
       "purchase_active                  0\n",
       "credit_limit_amt                 0\n",
       "credit_limit_pa                  0\n",
       "closed                           0\n",
       "active                           0\n",
       "charge_off                       0\n",
       "charge_off_aged                  0\n",
       "charge_off_bk                    0\n",
       "principal_amt                    0\n",
       "principal_amt_chrg_off           0\n",
       "total_writeoff_amt               0\n",
       "fee_chg_off_reversal_amt         0\n",
       "non_principal_amount_gross       0\n",
       "non_principal_amount_net         0\n",
       "non_principal_amount_stmt        0\n",
       "aged_writeoff_amt                0\n",
       "bankruptcy_writeoff_amt          0\n",
       "fc_reversals                     0\n",
       "fee_reversals                    0\n",
       "fraud_writeoff_amt               0\n",
       "other_writeoff_amt               0\n",
       "promo_bal_amt                    0\n",
       "recovery_amt                     0\n",
       "writeoff_type_bko                0\n",
       "writeoff_type_fraud_kiting       0\n",
       "writeoff_type_fraud_synthetic    0\n",
       "writeoff_type_deceased           0\n",
       "writeoff_type_other              0\n",
       "writeoff_type_aged               0\n",
       "writeoff_type_settlement         0\n",
       "writeoff_type_fraud_other        0\n",
       "writeoff_type_repo               0\n",
       "writeoff_type_null               0\n",
       "due_account_2                    0\n",
       "due_account_3                    0\n",
       "due_account_4                    0\n",
       "due_account_5                    0\n",
       "due_account_6                    0\n",
       "due_account_7                    0\n",
       "due_account_8                    0\n",
       "due_balance_2                    0\n",
       "due_balance_3                    0\n",
       "due_balance_4                    0\n",
       "due_balance_5                    0\n",
       "due_balance_6                    0\n",
       "due_balance_7                    0\n",
       "due_balance_8                    0\n",
       "snapshot                         0\n",
       "mth_code                         0\n",
       "industry                         0\n",
       "dtype: int64"
      ]
     },
     "execution_count": 14,
     "metadata": {},
     "output_type": "execute_result"
    }
   ],
   "source": [
    "df_1.isna().sum()"
   ]
  },
  {
   "cell_type": "code",
   "execution_count": 17,
   "id": "496a2592",
   "metadata": {},
   "outputs": [
    {
     "name": "stdout",
     "output_type": "stream",
     "text": [
      "201801\n",
      "201912\n"
     ]
    }
   ],
   "source": [
    "#min and max range\n",
    "print(min(df_1['mth_code']))\n",
    "print(max(df_1['mth_code']))\n"
   ]
  },
  {
   "cell_type": "code",
   "execution_count": 18,
   "id": "71676fc4",
   "metadata": {},
   "outputs": [
    {
     "data": {
      "text/plain": [
       "financial_active                 float64\n",
       "net_payment_behaviour_tripd       object\n",
       "promotion_flag                     int64\n",
       "variable_rate_index                int64\n",
       "account_status_code               object\n",
       "active_12_mths                   float64\n",
       "bank_fico_buckets_20              object\n",
       "mob                                int64\n",
       "ever_delinquent_flg              float64\n",
       "nbr_mths_due                     float64\n",
       "stmt_balance                     float64\n",
       "prev_balance                     float64\n",
       "net_sales                        float64\n",
       "net_payments                     float64\n",
       "purchase_active                  float64\n",
       "credit_limit_amt                 float64\n",
       "credit_limit_pa                  float64\n",
       "closed                             int64\n",
       "active                             int64\n",
       "charge_off                         int64\n",
       "charge_off_aged                    int64\n",
       "charge_off_bk                      int64\n",
       "principal_amt                    float64\n",
       "principal_amt_chrg_off           float64\n",
       "total_writeoff_amt               float64\n",
       "fee_chg_off_reversal_amt         float64\n",
       "non_principal_amount_gross       float64\n",
       "non_principal_amount_net         float64\n",
       "non_principal_amount_stmt        float64\n",
       "aged_writeoff_amt                float64\n",
       "bankruptcy_writeoff_amt          float64\n",
       "fc_reversals                     float64\n",
       "fee_reversals                    float64\n",
       "fraud_writeoff_amt               float64\n",
       "other_writeoff_amt               float64\n",
       "promo_bal_amt                    float64\n",
       "recovery_amt                     float64\n",
       "writeoff_type_bko                  int64\n",
       "writeoff_type_fraud_kiting         int64\n",
       "writeoff_type_fraud_synthetic      int64\n",
       "writeoff_type_deceased             int64\n",
       "writeoff_type_other                int64\n",
       "writeoff_type_aged                 int64\n",
       "writeoff_type_settlement           int64\n",
       "writeoff_type_fraud_other          int64\n",
       "writeoff_type_repo                 int64\n",
       "writeoff_type_null                 int64\n",
       "due_account_2                    float64\n",
       "due_account_3                    float64\n",
       "due_account_4                    float64\n",
       "due_account_5                    float64\n",
       "due_account_6                    float64\n",
       "due_account_7                    float64\n",
       "due_account_8                    float64\n",
       "due_balance_2                    float64\n",
       "due_balance_3                    float64\n",
       "due_balance_4                    float64\n",
       "due_balance_5                    float64\n",
       "due_balance_6                    float64\n",
       "due_balance_7                    float64\n",
       "due_balance_8                    float64\n",
       "snapshot                           int64\n",
       "mth_code                           int64\n",
       "industry                          object\n",
       "dtype: object"
      ]
     },
     "execution_count": 18,
     "metadata": {},
     "output_type": "execute_result"
    }
   ],
   "source": [
    "#datatype\n",
    "df_1.dtypes"
   ]
  },
  {
   "cell_type": "code",
   "execution_count": 19,
   "id": "00ffc681",
   "metadata": {},
   "outputs": [
    {
     "name": "stdout",
     "output_type": "stream",
     "text": [
      "Unique object datatype values for column net_payment_behaviour_tripd 6\n",
      "Unique object datatype values for column account_status_code 9\n",
      "Unique object datatype values for column bank_fico_buckets_20 14\n",
      "Unique object datatype values for column industry 3\n"
     ]
    }
   ],
   "source": [
    "#get all the columns which are object and unique values\n",
    "x1=[] #categorical columns\n",
    "for i in df_1.columns:\n",
    "    if df_1[i].dtypes=='object':\n",
    "        print('Unique object datatype values for column',i,len(df_1[i].unique()))\n",
    "        x1.append(i)"
   ]
  },
  {
   "cell_type": "markdown",
   "id": "5c3e146b",
   "metadata": {},
   "source": [
    "# Testing data (forecasting) making columns same as the training data:\n"
   ]
  },
  {
   "cell_type": "code",
   "execution_count": null,
   "id": "b63b8b32",
   "metadata": {},
   "outputs": [],
   "source": [
    "#removing columns where more than 30% of the data is missing\n",
    "df2=pd.read_csv('forecast_starting_data.csv')\n",
    "df2.head()\n"
   ]
  },
  {
   "cell_type": "code",
   "execution_count": 21,
   "id": "325dbdcf",
   "metadata": {},
   "outputs": [
    {
     "data": {
      "text/plain": [
       "True"
      ]
     },
     "execution_count": 21,
     "metadata": {},
     "output_type": "execute_result"
    }
   ],
   "source": [
    "#checking if the columns in training and testing match\n",
    "\n",
    "len(set(df1.columns).difference(set(df2.columns)))==0\n",
    "#if len is zero which indicates matching columns"
   ]
  },
  {
   "cell_type": "code",
   "execution_count": 22,
   "id": "e80a47f5",
   "metadata": {},
   "outputs": [
    {
     "name": "stdout",
     "output_type": "stream",
     "text": [
      "['financial_active', 'net_payment_behaviour_tripd', 'promotion_flag', 'variable_rate_index', 'account_status_code', 'active_12_mths', 'bank_fico_buckets_20', 'mob', 'ever_delinquent_flg', 'nbr_mths_due', 'stmt_balance', 'prev_balance', 'net_sales', 'net_payments', 'purchase_active', 'credit_limit_amt', 'credit_limit_pa', 'closed', 'active', 'charge_off', 'charge_off_aged', 'charge_off_bk', 'principal_amt', 'principal_amt_chrg_off', 'total_writeoff_amt', 'fee_chg_off_reversal_amt', 'non_principal_amount_gross', 'non_principal_amount_net', 'non_principal_amount_stmt', 'aged_writeoff_amt', 'bankruptcy_writeoff_amt', 'fc_reversals', 'fee_reversals', 'fraud_writeoff_amt', 'other_writeoff_amt', 'promo_bal_amt', 'recovery_amt', 'writeoff_type_bko', 'writeoff_type_fraud_kiting', 'writeoff_type_fraud_synthetic', 'writeoff_type_deceased', 'writeoff_type_other', 'writeoff_type_aged', 'writeoff_type_settlement', 'writeoff_type_fraud_other', 'writeoff_type_repo', 'writeoff_type_null', 'due_account_2', 'due_account_3', 'due_account_4', 'due_account_5', 'due_account_6', 'due_account_7', 'due_account_8', 'due_balance_2', 'due_balance_3', 'due_balance_4', 'due_balance_5', 'due_balance_6', 'due_balance_7', 'due_balance_8', 'snapshot', 'mth_code', 'industry']\n"
     ]
    }
   ],
   "source": [
    "print(r) # all the columns which are in the training data should exist in testing data\n"
   ]
  },
  {
   "cell_type": "code",
   "execution_count": 23,
   "id": "b199e0cb",
   "metadata": {},
   "outputs": [
    {
     "data": {
      "text/plain": [
       "(19866, 64)"
      ]
     },
     "execution_count": 23,
     "metadata": {},
     "output_type": "execute_result"
    }
   ],
   "source": [
    "df_2=df2[r] #this will ensure we have same columns in testinfg data as the training data\n",
    "df_2.shape\n",
    "\n"
   ]
  },
  {
   "cell_type": "code",
   "execution_count": 24,
   "id": "5b70a77b",
   "metadata": {},
   "outputs": [
    {
     "name": "stdout",
     "output_type": "stream",
     "text": [
      "Unique object datatype values for column net_payment_behaviour_tripd 6\n",
      "Unique object datatype values for column account_status_code 7\n",
      "Unique object datatype values for column bank_fico_buckets_20 14\n",
      "Unique object datatype values for column industry 3\n"
     ]
    }
   ],
   "source": [
    "#get all the columns which are object and unique values\n",
    "x2=[]\n",
    "for i in df_2.columns:\n",
    "    if df_2[i].dtypes=='object':\n",
    "        print('Unique object datatype values for column',i,len(df_2[i].unique()))\n",
    "        x2.append(i)"
   ]
  },
  {
   "cell_type": "code",
   "execution_count": 25,
   "id": "d82f7613",
   "metadata": {},
   "outputs": [],
   "source": [
    "df11=df_1.copy()\n",
    "df22=df_2.copy()"
   ]
  },
  {
   "cell_type": "markdown",
   "id": "02810f03",
   "metadata": {},
   "source": [
    "### We need to ensure that the columns created when making dummies for training data match the testing dataset as well"
   ]
  },
  {
   "cell_type": "code",
   "execution_count": 26,
   "id": "3a321817",
   "metadata": {},
   "outputs": [],
   "source": [
    "df1_num = pd.get_dummies(data=df11, columns=x1)"
   ]
  },
  {
   "cell_type": "code",
   "execution_count": 27,
   "id": "bcea7039",
   "metadata": {},
   "outputs": [
    {
     "data": {
      "text/plain": [
       "(5758223, 92)"
      ]
     },
     "execution_count": 27,
     "metadata": {},
     "output_type": "execute_result"
    }
   ],
   "source": [
    "df1_num.shape"
   ]
  },
  {
   "cell_type": "code",
   "execution_count": 28,
   "id": "df289f7a",
   "metadata": {},
   "outputs": [
    {
     "data": {
      "text/plain": [
       "(19866, 90)"
      ]
     },
     "execution_count": 28,
     "metadata": {},
     "output_type": "execute_result"
    }
   ],
   "source": [
    "df2_num = pd.get_dummies(data=df22, columns=x2)\n",
    "df2_num.shape\n",
    "#there are 2 columns less bcoz we had less unique values in the ccount_status_code\n",
    "\n"
   ]
  },
  {
   "cell_type": "code",
   "execution_count": 29,
   "id": "4d8f9a08",
   "metadata": {},
   "outputs": [
    {
     "data": {
      "text/plain": [
       "{'account_status_code_Clchange', 'account_status_code_MonthEnd'}"
      ]
     },
     "execution_count": 29,
     "metadata": {},
     "output_type": "execute_result"
    }
   ],
   "source": [
    "extra_cols=set(df1_num.columns).difference(set(df2_num.columns)) #these are the columsn which were mno t in the testing data\n",
    "extra_cols\n"
   ]
  },
  {
   "cell_type": "code",
   "execution_count": 30,
   "id": "c254edb7",
   "metadata": {},
   "outputs": [],
   "source": [
    "for i in extra_cols:\n",
    "    df2_num[i]=[0]*len(df2_num)"
   ]
  },
  {
   "cell_type": "code",
   "execution_count": 31,
   "id": "9143e553",
   "metadata": {},
   "outputs": [
    {
     "data": {
      "text/plain": [
       "(19866, 92)"
      ]
     },
     "execution_count": 31,
     "metadata": {},
     "output_type": "execute_result"
    }
   ],
   "source": [
    "df2_num.shape"
   ]
  },
  {
   "cell_type": "code",
   "execution_count": 40,
   "id": "2d9b623d",
   "metadata": {
    "scrolled": false
   },
   "outputs": [
    {
     "name": "stdout",
     "output_type": "stream",
     "text": [
      "charge_off   charge_off_aged\n",
      "0.9405717785465226\n",
      "-----------------------\n",
      "charge_off   principal_amt_chrg_off\n",
      "0.6064422530319712\n",
      "-----------------------\n",
      "charge_off   total_writeoff_amt\n",
      "0.6870568001048349\n",
      "-----------------------\n",
      "charge_off   fee_chg_off_reversal_amt\n",
      "0.6839247790219926\n",
      "-----------------------\n",
      "charge_off   aged_writeoff_amt\n",
      "0.6325975813623146\n",
      "-----------------------\n",
      "charge_off   fc_reversals\n",
      "0.5299494138880887\n",
      "-----------------------\n",
      "charge_off   fee_reversals\n",
      "0.8161220582798728\n",
      "-----------------------\n",
      "charge_off   writeoff_type_aged\n",
      "0.8945252384062947\n",
      "-----------------------\n"
     ]
    }
   ],
   "source": [
    "\n",
    "for j in df1_num:\n",
    "        #print(i,' ',j)\n",
    "        i='charge_off'\n",
    "        f=(df1_num[i].corr(df1_num[j]))\n",
    "        \n",
    "        if f>0.5 and i!=j:\n",
    "            print(i,' ',j)\n",
    "            print(f)\n",
    "            print('-----------------------')"
   ]
  },
  {
   "cell_type": "code",
   "execution_count": null,
   "id": "6353ff38",
   "metadata": {},
   "outputs": [],
   "source": [
    "df1"
   ]
  },
  {
   "cell_type": "code",
   "execution_count": null,
   "id": "a970cf42",
   "metadata": {},
   "outputs": [],
   "source": []
  },
  {
   "cell_type": "code",
   "execution_count": null,
   "id": "b2787508",
   "metadata": {},
   "outputs": [],
   "source": [
    "train---24 cols \n",
    "make model\n",
    "\n",
    "\n"
   ]
  },
  {
   "cell_type": "code",
   "execution_count": null,
   "id": "3e9dd944",
   "metadata": {},
   "outputs": [],
   "source": []
  },
  {
   "cell_type": "code",
   "execution_count": null,
   "id": "0368307e",
   "metadata": {},
   "outputs": [],
   "source": []
  },
  {
   "cell_type": "code",
   "execution_count": null,
   "id": "5d9f0f6c",
   "metadata": {},
   "outputs": [],
   "source": []
  }
 ],
 "metadata": {
  "kernelspec": {
   "display_name": "Python 3 (ipykernel)",
   "language": "python",
   "name": "python3"
  },
  "language_info": {
   "codemirror_mode": {
    "name": "ipython",
    "version": 3
   },
   "file_extension": ".py",
   "mimetype": "text/x-python",
   "name": "python",
   "nbconvert_exporter": "python",
   "pygments_lexer": "ipython3",
   "version": "3.9.12"
  }
 },
 "nbformat": 4,
 "nbformat_minor": 5
}
