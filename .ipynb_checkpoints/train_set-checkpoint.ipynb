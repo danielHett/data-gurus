{
 "cells": [
  {
   "cell_type": "code",
   "execution_count": 1,
   "id": "9b5b4be0",
   "metadata": {},
   "outputs": [],
   "source": [
    "import pandas as pd\n",
    "import numpy as np\n",
    "\n",
    "pd.set_option('display.max_columns', 500)\n",
    "pd.set_option('display.max_rows', 500)\n",
    "pd.set_option('display.width', 1000)"
   ]
  },
  {
   "cell_type": "code",
   "execution_count": 2,
   "id": "d1ebffea",
   "metadata": {},
   "outputs": [
    {
     "name": "stderr",
     "output_type": "stream",
     "text": [
      "/var/folders/98/4w5bzj557j733_gyzdw052200000gn/T/ipykernel_17079/767595295.py:1: DtypeWarning: Columns (51) have mixed types. Specify dtype option on import or set low_memory=False.\n",
      "  df = pd.read_csv('training_data.csv')\n"
     ]
    },
    {
     "data": {
      "text/html": [
       "<div>\n",
       "<style scoped>\n",
       "    .dataframe tbody tr th:only-of-type {\n",
       "        vertical-align: middle;\n",
       "    }\n",
       "\n",
       "    .dataframe tbody tr th {\n",
       "        vertical-align: top;\n",
       "    }\n",
       "\n",
       "    .dataframe thead th {\n",
       "        text-align: right;\n",
       "    }\n",
       "</style>\n",
       "<table border=\"1\" class=\"dataframe\">\n",
       "  <thead>\n",
       "    <tr style=\"text-align: right;\">\n",
       "      <th></th>\n",
       "      <th>financial_active</th>\n",
       "      <th>net_payment_behaviour_tripd</th>\n",
       "      <th>promotion_flag</th>\n",
       "      <th>variable_rate_index</th>\n",
       "      <th>account_status_code</th>\n",
       "      <th>active_12_mths</th>\n",
       "      <th>bank_fico_buckets_20</th>\n",
       "      <th>charge_off_reason_code</th>\n",
       "      <th>mob</th>\n",
       "      <th>open_closed_flag</th>\n",
       "      <th>ever_delinquent_flg</th>\n",
       "      <th>nbr_mths_due</th>\n",
       "      <th>variable_rate_margin</th>\n",
       "      <th>stmt_balance</th>\n",
       "      <th>prev_balance</th>\n",
       "      <th>net_sales</th>\n",
       "      <th>net_payments</th>\n",
       "      <th>purchase_active</th>\n",
       "      <th>credit_limit_amt</th>\n",
       "      <th>credit_limit_pa</th>\n",
       "      <th>closed</th>\n",
       "      <th>active</th>\n",
       "      <th>charge_off</th>\n",
       "      <th>charge_off_aged</th>\n",
       "      <th>charge_off_bk</th>\n",
       "      <th>principal_amt</th>\n",
       "      <th>principal_amt_chrg_off</th>\n",
       "      <th>total_writeoff_amt</th>\n",
       "      <th>fee_chg_off_reversal_amt</th>\n",
       "      <th>net_finance_charge</th>\n",
       "      <th>non_principal_amount_gross</th>\n",
       "      <th>non_principal_amount_net</th>\n",
       "      <th>non_principal_amount_stmt</th>\n",
       "      <th>aged_writeoff_amt</th>\n",
       "      <th>bankruptcy_writeoff_amt</th>\n",
       "      <th>fc_reversals</th>\n",
       "      <th>fee_reversals</th>\n",
       "      <th>fraud_writeoff_amt</th>\n",
       "      <th>other_writeoff_amt</th>\n",
       "      <th>promo_bal_amt</th>\n",
       "      <th>recovery_amt</th>\n",
       "      <th>writeoff_type_bko</th>\n",
       "      <th>writeoff_type_fraud_kiting</th>\n",
       "      <th>writeoff_type_fraud_synthetic</th>\n",
       "      <th>writeoff_type_deceased</th>\n",
       "      <th>writeoff_type_other</th>\n",
       "      <th>writeoff_type_aged</th>\n",
       "      <th>writeoff_type_settlement</th>\n",
       "      <th>writeoff_type_fraud_other</th>\n",
       "      <th>writeoff_type_repo</th>\n",
       "      <th>writeoff_type_null</th>\n",
       "      <th>writeoff_date</th>\n",
       "      <th>due_account_2</th>\n",
       "      <th>due_account_3</th>\n",
       "      <th>due_account_4</th>\n",
       "      <th>due_account_5</th>\n",
       "      <th>due_account_6</th>\n",
       "      <th>due_account_7</th>\n",
       "      <th>due_account_8</th>\n",
       "      <th>due_balance_2</th>\n",
       "      <th>due_balance_3</th>\n",
       "      <th>due_balance_4</th>\n",
       "      <th>due_balance_5</th>\n",
       "      <th>due_balance_6</th>\n",
       "      <th>due_balance_7</th>\n",
       "      <th>due_balance_8</th>\n",
       "      <th>snapshot</th>\n",
       "      <th>mth_code</th>\n",
       "      <th>industry</th>\n",
       "    </tr>\n",
       "  </thead>\n",
       "  <tbody>\n",
       "    <tr>\n",
       "      <th>0</th>\n",
       "      <td>1.0</td>\n",
       "      <td>P</td>\n",
       "      <td>0</td>\n",
       "      <td>0</td>\n",
       "      <td>I 0-6</td>\n",
       "      <td>1.0</td>\n",
       "      <td>581-600</td>\n",
       "      <td>NaN</td>\n",
       "      <td>3</td>\n",
       "      <td>1.0</td>\n",
       "      <td>0.0</td>\n",
       "      <td>0.0</td>\n",
       "      <td>NaN</td>\n",
       "      <td>34.77</td>\n",
       "      <td>1918.32</td>\n",
       "      <td>54.25</td>\n",
       "      <td>0.00</td>\n",
       "      <td>0.0</td>\n",
       "      <td>5900.0</td>\n",
       "      <td>2500.0</td>\n",
       "      <td>0</td>\n",
       "      <td>1</td>\n",
       "      <td>0</td>\n",
       "      <td>0</td>\n",
       "      <td>0</td>\n",
       "      <td>301.97</td>\n",
       "      <td>0.0</td>\n",
       "      <td>0.0</td>\n",
       "      <td>0.0</td>\n",
       "      <td>0.00</td>\n",
       "      <td>1045.23</td>\n",
       "      <td>0.0</td>\n",
       "      <td>0.0</td>\n",
       "      <td>0.0</td>\n",
       "      <td>0.0</td>\n",
       "      <td>0.0</td>\n",
       "      <td>0.0</td>\n",
       "      <td>0.0</td>\n",
       "      <td>0.0</td>\n",
       "      <td>0.00</td>\n",
       "      <td>0.0</td>\n",
       "      <td>0</td>\n",
       "      <td>0</td>\n",
       "      <td>0</td>\n",
       "      <td>0</td>\n",
       "      <td>0</td>\n",
       "      <td>0</td>\n",
       "      <td>0</td>\n",
       "      <td>0</td>\n",
       "      <td>0</td>\n",
       "      <td>1</td>\n",
       "      <td>NaN</td>\n",
       "      <td>0.0</td>\n",
       "      <td>0.0</td>\n",
       "      <td>0.0</td>\n",
       "      <td>0.0</td>\n",
       "      <td>0.0</td>\n",
       "      <td>0.0</td>\n",
       "      <td>0.0</td>\n",
       "      <td>0.0</td>\n",
       "      <td>0.0</td>\n",
       "      <td>0.0</td>\n",
       "      <td>0.0</td>\n",
       "      <td>0.0</td>\n",
       "      <td>0.0</td>\n",
       "      <td>0.0</td>\n",
       "      <td>201801</td>\n",
       "      <td>201807</td>\n",
       "      <td>B</td>\n",
       "    </tr>\n",
       "    <tr>\n",
       "      <th>1</th>\n",
       "      <td>0.0</td>\n",
       "      <td>P</td>\n",
       "      <td>0</td>\n",
       "      <td>0</td>\n",
       "      <td>I 0-6</td>\n",
       "      <td>1.0</td>\n",
       "      <td>721-740</td>\n",
       "      <td>NaN</td>\n",
       "      <td>159</td>\n",
       "      <td>1.0</td>\n",
       "      <td>0.0</td>\n",
       "      <td>0.0</td>\n",
       "      <td>19.65</td>\n",
       "      <td>0.00</td>\n",
       "      <td>0.00</td>\n",
       "      <td>0.00</td>\n",
       "      <td>0.00</td>\n",
       "      <td>0.0</td>\n",
       "      <td>5000.0</td>\n",
       "      <td>11400.0</td>\n",
       "      <td>0</td>\n",
       "      <td>1</td>\n",
       "      <td>0</td>\n",
       "      <td>0</td>\n",
       "      <td>0</td>\n",
       "      <td>510.16</td>\n",
       "      <td>0.0</td>\n",
       "      <td>0.0</td>\n",
       "      <td>0.0</td>\n",
       "      <td>0.00</td>\n",
       "      <td>0.00</td>\n",
       "      <td>0.0</td>\n",
       "      <td>0.0</td>\n",
       "      <td>0.0</td>\n",
       "      <td>0.0</td>\n",
       "      <td>0.0</td>\n",
       "      <td>0.0</td>\n",
       "      <td>0.0</td>\n",
       "      <td>0.0</td>\n",
       "      <td>1557.24</td>\n",
       "      <td>0.0</td>\n",
       "      <td>0</td>\n",
       "      <td>0</td>\n",
       "      <td>0</td>\n",
       "      <td>0</td>\n",
       "      <td>0</td>\n",
       "      <td>0</td>\n",
       "      <td>0</td>\n",
       "      <td>0</td>\n",
       "      <td>0</td>\n",
       "      <td>1</td>\n",
       "      <td>NaN</td>\n",
       "      <td>0.0</td>\n",
       "      <td>0.0</td>\n",
       "      <td>0.0</td>\n",
       "      <td>0.0</td>\n",
       "      <td>0.0</td>\n",
       "      <td>0.0</td>\n",
       "      <td>0.0</td>\n",
       "      <td>0.0</td>\n",
       "      <td>0.0</td>\n",
       "      <td>0.0</td>\n",
       "      <td>0.0</td>\n",
       "      <td>0.0</td>\n",
       "      <td>0.0</td>\n",
       "      <td>0.0</td>\n",
       "      <td>201801</td>\n",
       "      <td>201906</td>\n",
       "      <td>C</td>\n",
       "    </tr>\n",
       "    <tr>\n",
       "      <th>2</th>\n",
       "      <td>1.0</td>\n",
       "      <td>T</td>\n",
       "      <td>0</td>\n",
       "      <td>0</td>\n",
       "      <td>I 7-12</td>\n",
       "      <td>1.0</td>\n",
       "      <td>761+</td>\n",
       "      <td>NaN</td>\n",
       "      <td>22</td>\n",
       "      <td>1.0</td>\n",
       "      <td>0.0</td>\n",
       "      <td>0.0</td>\n",
       "      <td>19.65</td>\n",
       "      <td>0.00</td>\n",
       "      <td>0.00</td>\n",
       "      <td>0.00</td>\n",
       "      <td>104.00</td>\n",
       "      <td>0.0</td>\n",
       "      <td>3100.0</td>\n",
       "      <td>0.0</td>\n",
       "      <td>0</td>\n",
       "      <td>1</td>\n",
       "      <td>0</td>\n",
       "      <td>0</td>\n",
       "      <td>0</td>\n",
       "      <td>0.00</td>\n",
       "      <td>0.0</td>\n",
       "      <td>0.0</td>\n",
       "      <td>0.0</td>\n",
       "      <td>0.00</td>\n",
       "      <td>261.39</td>\n",
       "      <td>0.0</td>\n",
       "      <td>0.0</td>\n",
       "      <td>0.0</td>\n",
       "      <td>0.0</td>\n",
       "      <td>0.0</td>\n",
       "      <td>0.0</td>\n",
       "      <td>0.0</td>\n",
       "      <td>0.0</td>\n",
       "      <td>0.00</td>\n",
       "      <td>0.0</td>\n",
       "      <td>0</td>\n",
       "      <td>0</td>\n",
       "      <td>0</td>\n",
       "      <td>0</td>\n",
       "      <td>0</td>\n",
       "      <td>0</td>\n",
       "      <td>0</td>\n",
       "      <td>0</td>\n",
       "      <td>0</td>\n",
       "      <td>1</td>\n",
       "      <td>NaN</td>\n",
       "      <td>0.0</td>\n",
       "      <td>0.0</td>\n",
       "      <td>0.0</td>\n",
       "      <td>0.0</td>\n",
       "      <td>0.0</td>\n",
       "      <td>0.0</td>\n",
       "      <td>0.0</td>\n",
       "      <td>0.0</td>\n",
       "      <td>0.0</td>\n",
       "      <td>0.0</td>\n",
       "      <td>0.0</td>\n",
       "      <td>0.0</td>\n",
       "      <td>0.0</td>\n",
       "      <td>0.0</td>\n",
       "      <td>201801</td>\n",
       "      <td>201905</td>\n",
       "      <td>A</td>\n",
       "    </tr>\n",
       "    <tr>\n",
       "      <th>3</th>\n",
       "      <td>1.0</td>\n",
       "      <td>T</td>\n",
       "      <td>0</td>\n",
       "      <td>1</td>\n",
       "      <td>I 0-6</td>\n",
       "      <td>1.0</td>\n",
       "      <td>761+</td>\n",
       "      <td>NaN</td>\n",
       "      <td>16</td>\n",
       "      <td>1.0</td>\n",
       "      <td>1.0</td>\n",
       "      <td>0.0</td>\n",
       "      <td>NaN</td>\n",
       "      <td>0.00</td>\n",
       "      <td>0.00</td>\n",
       "      <td>0.00</td>\n",
       "      <td>859.57</td>\n",
       "      <td>1.0</td>\n",
       "      <td>700.0</td>\n",
       "      <td>0.0</td>\n",
       "      <td>0</td>\n",
       "      <td>1</td>\n",
       "      <td>0</td>\n",
       "      <td>0</td>\n",
       "      <td>0</td>\n",
       "      <td>0.00</td>\n",
       "      <td>0.0</td>\n",
       "      <td>0.0</td>\n",
       "      <td>0.0</td>\n",
       "      <td>12.08</td>\n",
       "      <td>0.30</td>\n",
       "      <td>0.0</td>\n",
       "      <td>40.0</td>\n",
       "      <td>0.0</td>\n",
       "      <td>0.0</td>\n",
       "      <td>0.0</td>\n",
       "      <td>0.0</td>\n",
       "      <td>0.0</td>\n",
       "      <td>0.0</td>\n",
       "      <td>0.00</td>\n",
       "      <td>0.0</td>\n",
       "      <td>0</td>\n",
       "      <td>0</td>\n",
       "      <td>0</td>\n",
       "      <td>0</td>\n",
       "      <td>0</td>\n",
       "      <td>0</td>\n",
       "      <td>0</td>\n",
       "      <td>0</td>\n",
       "      <td>0</td>\n",
       "      <td>1</td>\n",
       "      <td>NaN</td>\n",
       "      <td>1.0</td>\n",
       "      <td>0.0</td>\n",
       "      <td>0.0</td>\n",
       "      <td>0.0</td>\n",
       "      <td>0.0</td>\n",
       "      <td>0.0</td>\n",
       "      <td>0.0</td>\n",
       "      <td>0.0</td>\n",
       "      <td>0.0</td>\n",
       "      <td>0.0</td>\n",
       "      <td>0.0</td>\n",
       "      <td>0.0</td>\n",
       "      <td>0.0</td>\n",
       "      <td>0.0</td>\n",
       "      <td>201801</td>\n",
       "      <td>201806</td>\n",
       "      <td>B</td>\n",
       "    </tr>\n",
       "    <tr>\n",
       "      <th>4</th>\n",
       "      <td>1.0</td>\n",
       "      <td>P</td>\n",
       "      <td>0</td>\n",
       "      <td>0</td>\n",
       "      <td>A</td>\n",
       "      <td>0.0</td>\n",
       "      <td>721-740</td>\n",
       "      <td>NaN</td>\n",
       "      <td>3</td>\n",
       "      <td>1.0</td>\n",
       "      <td>0.0</td>\n",
       "      <td>2.0</td>\n",
       "      <td>11.65</td>\n",
       "      <td>0.00</td>\n",
       "      <td>0.00</td>\n",
       "      <td>0.00</td>\n",
       "      <td>0.00</td>\n",
       "      <td>0.0</td>\n",
       "      <td>3500.0</td>\n",
       "      <td>0.0</td>\n",
       "      <td>0</td>\n",
       "      <td>1</td>\n",
       "      <td>0</td>\n",
       "      <td>0</td>\n",
       "      <td>0</td>\n",
       "      <td>0.00</td>\n",
       "      <td>0.0</td>\n",
       "      <td>0.0</td>\n",
       "      <td>0.0</td>\n",
       "      <td>0.00</td>\n",
       "      <td>0.00</td>\n",
       "      <td>31.0</td>\n",
       "      <td>0.0</td>\n",
       "      <td>0.0</td>\n",
       "      <td>0.0</td>\n",
       "      <td>0.0</td>\n",
       "      <td>0.0</td>\n",
       "      <td>0.0</td>\n",
       "      <td>0.0</td>\n",
       "      <td>960.00</td>\n",
       "      <td>0.0</td>\n",
       "      <td>0</td>\n",
       "      <td>0</td>\n",
       "      <td>0</td>\n",
       "      <td>0</td>\n",
       "      <td>0</td>\n",
       "      <td>0</td>\n",
       "      <td>0</td>\n",
       "      <td>0</td>\n",
       "      <td>0</td>\n",
       "      <td>1</td>\n",
       "      <td>NaN</td>\n",
       "      <td>0.0</td>\n",
       "      <td>0.0</td>\n",
       "      <td>0.0</td>\n",
       "      <td>0.0</td>\n",
       "      <td>0.0</td>\n",
       "      <td>0.0</td>\n",
       "      <td>0.0</td>\n",
       "      <td>0.0</td>\n",
       "      <td>0.0</td>\n",
       "      <td>0.0</td>\n",
       "      <td>0.0</td>\n",
       "      <td>0.0</td>\n",
       "      <td>0.0</td>\n",
       "      <td>0.0</td>\n",
       "      <td>201801</td>\n",
       "      <td>201902</td>\n",
       "      <td>B</td>\n",
       "    </tr>\n",
       "  </tbody>\n",
       "</table>\n",
       "</div>"
      ],
      "text/plain": [
       "   financial_active net_payment_behaviour_tripd  promotion_flag  variable_rate_index account_status_code  active_12_mths bank_fico_buckets_20  charge_off_reason_code  mob  open_closed_flag  ever_delinquent_flg  nbr_mths_due  variable_rate_margin  stmt_balance  prev_balance  net_sales  net_payments  purchase_active  credit_limit_amt  credit_limit_pa  closed  active  charge_off  charge_off_aged  charge_off_bk  principal_amt  principal_amt_chrg_off  total_writeoff_amt  fee_chg_off_reversal_amt  net_finance_charge  non_principal_amount_gross  non_principal_amount_net  non_principal_amount_stmt  aged_writeoff_amt  bankruptcy_writeoff_amt  fc_reversals  fee_reversals  fraud_writeoff_amt  other_writeoff_amt  promo_bal_amt  recovery_amt  writeoff_type_bko  writeoff_type_fraud_kiting  writeoff_type_fraud_synthetic  writeoff_type_deceased  writeoff_type_other  writeoff_type_aged  writeoff_type_settlement  writeoff_type_fraud_other  writeoff_type_repo  writeoff_type_null writeoff_date  \\\n",
       "0               1.0                           P               0                    0               I 0-6             1.0              581-600                     NaN    3               1.0                  0.0           0.0                   NaN         34.77       1918.32      54.25          0.00              0.0            5900.0           2500.0       0       1           0                0              0         301.97                     0.0                 0.0                       0.0                0.00                     1045.23                       0.0                        0.0                0.0                      0.0           0.0            0.0                 0.0                 0.0           0.00           0.0                  0                           0                              0                       0                    0                   0                         0                          0                   0                   1           NaN   \n",
       "1               0.0                           P               0                    0               I 0-6             1.0              721-740                     NaN  159               1.0                  0.0           0.0                 19.65          0.00          0.00       0.00          0.00              0.0            5000.0          11400.0       0       1           0                0              0         510.16                     0.0                 0.0                       0.0                0.00                        0.00                       0.0                        0.0                0.0                      0.0           0.0            0.0                 0.0                 0.0        1557.24           0.0                  0                           0                              0                       0                    0                   0                         0                          0                   0                   1           NaN   \n",
       "2               1.0                           T               0                    0              I 7-12             1.0                 761+                     NaN   22               1.0                  0.0           0.0                 19.65          0.00          0.00       0.00        104.00              0.0            3100.0              0.0       0       1           0                0              0           0.00                     0.0                 0.0                       0.0                0.00                      261.39                       0.0                        0.0                0.0                      0.0           0.0            0.0                 0.0                 0.0           0.00           0.0                  0                           0                              0                       0                    0                   0                         0                          0                   0                   1           NaN   \n",
       "3               1.0                           T               0                    1               I 0-6             1.0                 761+                     NaN   16               1.0                  1.0           0.0                   NaN          0.00          0.00       0.00        859.57              1.0             700.0              0.0       0       1           0                0              0           0.00                     0.0                 0.0                       0.0               12.08                        0.30                       0.0                       40.0                0.0                      0.0           0.0            0.0                 0.0                 0.0           0.00           0.0                  0                           0                              0                       0                    0                   0                         0                          0                   0                   1           NaN   \n",
       "4               1.0                           P               0                    0                   A             0.0              721-740                     NaN    3               1.0                  0.0           2.0                 11.65          0.00          0.00       0.00          0.00              0.0            3500.0              0.0       0       1           0                0              0           0.00                     0.0                 0.0                       0.0                0.00                        0.00                      31.0                        0.0                0.0                      0.0           0.0            0.0                 0.0                 0.0         960.00           0.0                  0                           0                              0                       0                    0                   0                         0                          0                   0                   1           NaN   \n",
       "\n",
       "   due_account_2  due_account_3  due_account_4  due_account_5  due_account_6  due_account_7  due_account_8  due_balance_2  due_balance_3  due_balance_4  due_balance_5  due_balance_6  due_balance_7  due_balance_8  snapshot  mth_code industry  \n",
       "0            0.0            0.0            0.0            0.0            0.0            0.0            0.0            0.0            0.0            0.0            0.0            0.0            0.0            0.0    201801    201807        B  \n",
       "1            0.0            0.0            0.0            0.0            0.0            0.0            0.0            0.0            0.0            0.0            0.0            0.0            0.0            0.0    201801    201906        C  \n",
       "2            0.0            0.0            0.0            0.0            0.0            0.0            0.0            0.0            0.0            0.0            0.0            0.0            0.0            0.0    201801    201905        A  \n",
       "3            1.0            0.0            0.0            0.0            0.0            0.0            0.0            0.0            0.0            0.0            0.0            0.0            0.0            0.0    201801    201806        B  \n",
       "4            0.0            0.0            0.0            0.0            0.0            0.0            0.0            0.0            0.0            0.0            0.0            0.0            0.0            0.0    201801    201902        B  "
      ]
     },
     "execution_count": 2,
     "metadata": {},
     "output_type": "execute_result"
    }
   ],
   "source": [
    "df = pd.read_csv('training_data.csv')\n",
    "df.head()"
   ]
  },
  {
   "cell_type": "code",
   "execution_count": 3,
   "id": "0ff8cda9",
   "metadata": {},
   "outputs": [
    {
     "data": {
      "text/plain": [
       "financial_active                       0\n",
       "net_payment_behaviour_tripd            0\n",
       "promotion_flag                         0\n",
       "variable_rate_index                    0\n",
       "account_status_code                    0\n",
       "active_12_mths                         0\n",
       "bank_fico_buckets_20                   0\n",
       "charge_off_reason_code           5758209\n",
       "mob                                    0\n",
       "open_closed_flag                       4\n",
       "ever_delinquent_flg                    0\n",
       "nbr_mths_due                           0\n",
       "variable_rate_margin             4208656\n",
       "stmt_balance                           0\n",
       "prev_balance                           0\n",
       "net_sales                              0\n",
       "net_payments                           0\n",
       "purchase_active                        0\n",
       "credit_limit_amt                       0\n",
       "credit_limit_pa                        0\n",
       "closed                                 0\n",
       "active                                 0\n",
       "charge_off                             0\n",
       "charge_off_aged                        0\n",
       "charge_off_bk                          0\n",
       "principal_amt                          0\n",
       "principal_amt_chrg_off                 0\n",
       "total_writeoff_amt                     0\n",
       "fee_chg_off_reversal_amt               0\n",
       "net_finance_charge                156606\n",
       "non_principal_amount_gross             0\n",
       "non_principal_amount_net               0\n",
       "non_principal_amount_stmt              0\n",
       "aged_writeoff_amt                      0\n",
       "bankruptcy_writeoff_amt                0\n",
       "fc_reversals                           0\n",
       "fee_reversals                          0\n",
       "fraud_writeoff_amt                     0\n",
       "other_writeoff_amt                     0\n",
       "promo_bal_amt                          0\n",
       "recovery_amt                           0\n",
       "writeoff_type_bko                      0\n",
       "writeoff_type_fraud_kiting             0\n",
       "writeoff_type_fraud_synthetic          0\n",
       "writeoff_type_deceased                 0\n",
       "writeoff_type_other                    0\n",
       "writeoff_type_aged                     0\n",
       "writeoff_type_settlement               0\n",
       "writeoff_type_fraud_other              0\n",
       "writeoff_type_repo                     0\n",
       "writeoff_type_null                     0\n",
       "writeoff_date                    5728673\n",
       "due_account_2                          0\n",
       "due_account_3                          0\n",
       "due_account_4                          0\n",
       "due_account_5                          0\n",
       "due_account_6                          0\n",
       "due_account_7                          0\n",
       "due_account_8                          0\n",
       "due_balance_2                          0\n",
       "due_balance_3                          0\n",
       "due_balance_4                          0\n",
       "due_balance_5                          0\n",
       "due_balance_6                          0\n",
       "due_balance_7                          0\n",
       "due_balance_8                          0\n",
       "snapshot                               0\n",
       "mth_code                               0\n",
       "industry                               0\n",
       "dtype: int64"
      ]
     },
     "execution_count": 3,
     "metadata": {},
     "output_type": "execute_result"
    }
   ],
   "source": [
    "df.isnull().sum()"
   ]
  },
  {
   "cell_type": "code",
   "execution_count": 4,
   "id": "fafedb9a",
   "metadata": {},
   "outputs": [],
   "source": [
    "df['mth_code'] = pd.to_datetime(df['mth_code'], format = '%Y%m', errors = 'coerce')"
   ]
  },
  {
   "cell_type": "code",
   "execution_count": 5,
   "id": "a33e8093",
   "metadata": {},
   "outputs": [
    {
     "data": {
      "text/plain": [
       "0         2018-07-01\n",
       "1         2019-06-01\n",
       "2         2019-05-01\n",
       "3         2018-06-01\n",
       "4         2019-02-01\n",
       "             ...    \n",
       "5758218   2019-12-01\n",
       "5758219   2019-12-01\n",
       "5758220   2019-12-01\n",
       "5758221   2019-12-01\n",
       "5758222   2019-12-01\n",
       "Name: mth_code, Length: 5758223, dtype: datetime64[ns]"
      ]
     },
     "execution_count": 5,
     "metadata": {},
     "output_type": "execute_result"
    }
   ],
   "source": [
    "df['mth_code']"
   ]
  },
  {
   "cell_type": "code",
   "execution_count": 6,
   "id": "1630a4f1",
   "metadata": {},
   "outputs": [
    {
     "data": {
      "text/plain": [
       "0    5742525\n",
       "1      15698\n",
       "Name: charge_off, dtype: int64"
      ]
     },
     "execution_count": 6,
     "metadata": {},
     "output_type": "execute_result"
    }
   ],
   "source": [
    "df['charge_off'].value_counts()"
   ]
  },
  {
   "cell_type": "code",
   "execution_count": 7,
   "id": "075dfbfe",
   "metadata": {},
   "outputs": [
    {
     "data": {
      "text/plain": [
       "mth_code\n",
       "January       760\n",
       "February      931\n",
       "March        1005\n",
       "April        1071\n",
       "May          1247\n",
       "June         1263\n",
       "July         1306\n",
       "August       1352\n",
       "September    1390\n",
       "October      1669\n",
       "November     1802\n",
       "December     1902\n",
       "Name: charge_off, dtype: int64"
      ]
     },
     "execution_count": 7,
     "metadata": {},
     "output_type": "execute_result"
    }
   ],
   "source": [
    "df.groupby(df['mth_code'].dt.strftime('%B'))['charge_off'].sum().sort_values()"
   ]
  },
  {
   "cell_type": "code",
   "execution_count": 8,
   "id": "00280fbb",
   "metadata": {},
   "outputs": [
    {
     "data": {
      "text/plain": [
       "mth_code\n",
       "2018-01-01       0\n",
       "2018-02-01      78\n",
       "2018-03-01     162\n",
       "2018-04-01     206\n",
       "2018-05-01     294\n",
       "2018-06-01     362\n",
       "2018-07-01     373\n",
       "2018-08-01     431\n",
       "2018-09-01     476\n",
       "2018-10-01     617\n",
       "2018-11-01     695\n",
       "2018-12-01     716\n",
       "2019-01-01     760\n",
       "2019-02-01     853\n",
       "2019-03-01     843\n",
       "2019-04-01     865\n",
       "2019-05-01     953\n",
       "2019-06-01     901\n",
       "2019-07-01     933\n",
       "2019-08-01     921\n",
       "2019-09-01     914\n",
       "2019-10-01    1052\n",
       "2019-11-01    1107\n",
       "2019-12-01    1186\n",
       "Name: charge_off, dtype: int64"
      ]
     },
     "execution_count": 8,
     "metadata": {},
     "output_type": "execute_result"
    }
   ],
   "source": [
    "df.groupby('mth_code')['charge_off'].sum()"
   ]
  },
  {
   "cell_type": "code",
   "execution_count": 9,
   "id": "c37c30f0",
   "metadata": {},
   "outputs": [
    {
     "data": {
      "text/plain": [
       "array(['2018-07-01T00:00:00.000000000', '2019-06-01T00:00:00.000000000',\n",
       "       '2019-05-01T00:00:00.000000000', '2018-06-01T00:00:00.000000000',\n",
       "       '2019-02-01T00:00:00.000000000', '2018-12-01T00:00:00.000000000',\n",
       "       '2019-12-01T00:00:00.000000000', '2019-01-01T00:00:00.000000000',\n",
       "       '2018-05-01T00:00:00.000000000', '2018-10-01T00:00:00.000000000',\n",
       "       '2018-03-01T00:00:00.000000000', '2019-07-01T00:00:00.000000000',\n",
       "       '2019-11-01T00:00:00.000000000', '2018-09-01T00:00:00.000000000',\n",
       "       '2018-11-01T00:00:00.000000000', '2019-03-01T00:00:00.000000000',\n",
       "       '2019-09-01T00:00:00.000000000', '2019-08-01T00:00:00.000000000',\n",
       "       '2018-04-01T00:00:00.000000000', '2019-04-01T00:00:00.000000000',\n",
       "       '2018-08-01T00:00:00.000000000', '2018-01-01T00:00:00.000000000',\n",
       "       '2019-10-01T00:00:00.000000000', '2018-02-01T00:00:00.000000000'],\n",
       "      dtype='datetime64[ns]')"
      ]
     },
     "execution_count": 9,
     "metadata": {},
     "output_type": "execute_result"
    }
   ],
   "source": [
    "df['mth_code'].unique()"
   ]
  },
  {
   "cell_type": "code",
   "execution_count": 10,
   "id": "48dfc112",
   "metadata": {},
   "outputs": [
    {
     "data": {
      "text/plain": [
       "Timestamp('2018-01-01 00:00:00')"
      ]
     },
     "execution_count": 10,
     "metadata": {},
     "output_type": "execute_result"
    }
   ],
   "source": [
    "df['mth_code'].min()"
   ]
  },
  {
   "cell_type": "code",
   "execution_count": 11,
   "id": "6e0a0125",
   "metadata": {},
   "outputs": [
    {
     "data": {
      "text/plain": [
       "Timestamp('2019-12-01 00:00:00')"
      ]
     },
     "execution_count": 11,
     "metadata": {},
     "output_type": "execute_result"
    }
   ],
   "source": [
    "df['mth_code'].max()"
   ]
  },
  {
   "cell_type": "code",
   "execution_count": 12,
   "id": "376c9edb",
   "metadata": {},
   "outputs": [
    {
     "data": {
      "text/plain": [
       "mth_code\n",
       "2018-01-01     19858\n",
       "2018-02-01     39706\n",
       "2018-03-01     59462\n",
       "2018-04-01     79115\n",
       "2018-05-01     98714\n",
       "2018-06-01    118195\n",
       "2018-07-01    137595\n",
       "2018-08-01    156979\n",
       "2018-09-01    176303\n",
       "2018-10-01    195573\n",
       "2018-11-01    214642\n",
       "2018-12-01    233739\n",
       "2019-01-01    252813\n",
       "2019-02-01    271309\n",
       "2019-03-01    289615\n",
       "2019-04-01    307703\n",
       "2019-05-01    325685\n",
       "2019-06-01    343615\n",
       "2019-07-01    361628\n",
       "2019-08-01    379557\n",
       "2019-09-01    397415\n",
       "2019-10-01    415313\n",
       "2019-11-01    433026\n",
       "2019-12-01    450663\n",
       "Name: net_payment_behaviour_tripd, dtype: int64"
      ]
     },
     "execution_count": 12,
     "metadata": {},
     "output_type": "execute_result"
    }
   ],
   "source": [
    "df.groupby('mth_code')['net_payment_behaviour_tripd'].count()"
   ]
  },
  {
   "cell_type": "code",
   "execution_count": 13,
   "id": "8b7b2052",
   "metadata": {},
   "outputs": [],
   "source": [
    "df1 = df.copy()"
   ]
  },
  {
   "cell_type": "code",
   "execution_count": 14,
   "id": "aa4f2f77",
   "metadata": {},
   "outputs": [
    {
     "data": {
      "text/plain": [
       "financial_active                        float64\n",
       "net_payment_behaviour_tripd              object\n",
       "promotion_flag                            int64\n",
       "variable_rate_index                       int64\n",
       "account_status_code                      object\n",
       "active_12_mths                          float64\n",
       "bank_fico_buckets_20                     object\n",
       "charge_off_reason_code                  float64\n",
       "mob                                       int64\n",
       "open_closed_flag                        float64\n",
       "ever_delinquent_flg                     float64\n",
       "nbr_mths_due                            float64\n",
       "variable_rate_margin                    float64\n",
       "stmt_balance                            float64\n",
       "prev_balance                            float64\n",
       "net_sales                               float64\n",
       "net_payments                            float64\n",
       "purchase_active                         float64\n",
       "credit_limit_amt                        float64\n",
       "credit_limit_pa                         float64\n",
       "closed                                    int64\n",
       "active                                    int64\n",
       "charge_off                                int64\n",
       "charge_off_aged                           int64\n",
       "charge_off_bk                             int64\n",
       "principal_amt                           float64\n",
       "principal_amt_chrg_off                  float64\n",
       "total_writeoff_amt                      float64\n",
       "fee_chg_off_reversal_amt                float64\n",
       "net_finance_charge                      float64\n",
       "non_principal_amount_gross              float64\n",
       "non_principal_amount_net                float64\n",
       "non_principal_amount_stmt               float64\n",
       "aged_writeoff_amt                       float64\n",
       "bankruptcy_writeoff_amt                 float64\n",
       "fc_reversals                            float64\n",
       "fee_reversals                           float64\n",
       "fraud_writeoff_amt                      float64\n",
       "other_writeoff_amt                      float64\n",
       "promo_bal_amt                           float64\n",
       "recovery_amt                            float64\n",
       "writeoff_type_bko                         int64\n",
       "writeoff_type_fraud_kiting                int64\n",
       "writeoff_type_fraud_synthetic             int64\n",
       "writeoff_type_deceased                    int64\n",
       "writeoff_type_other                       int64\n",
       "writeoff_type_aged                        int64\n",
       "writeoff_type_settlement                  int64\n",
       "writeoff_type_fraud_other                 int64\n",
       "writeoff_type_repo                        int64\n",
       "writeoff_type_null                        int64\n",
       "writeoff_date                            object\n",
       "due_account_2                           float64\n",
       "due_account_3                           float64\n",
       "due_account_4                           float64\n",
       "due_account_5                           float64\n",
       "due_account_6                           float64\n",
       "due_account_7                           float64\n",
       "due_account_8                           float64\n",
       "due_balance_2                           float64\n",
       "due_balance_3                           float64\n",
       "due_balance_4                           float64\n",
       "due_balance_5                           float64\n",
       "due_balance_6                           float64\n",
       "due_balance_7                           float64\n",
       "due_balance_8                           float64\n",
       "snapshot                                  int64\n",
       "mth_code                         datetime64[ns]\n",
       "industry                                 object\n",
       "dtype: object"
      ]
     },
     "execution_count": 14,
     "metadata": {},
     "output_type": "execute_result"
    }
   ],
   "source": [
    "df1.dtypes"
   ]
  },
  {
   "cell_type": "code",
   "execution_count": 15,
   "id": "93b44ce6",
   "metadata": {},
   "outputs": [
    {
     "data": {
      "text/plain": [
       "761+         2082299\n",
       "701-720       556912\n",
       "681-700       548690\n",
       "721-740       517257\n",
       "661-680       507325\n",
       "741-760       454088\n",
       "641-660       413659\n",
       "621-640       266710\n",
       "601-620       154257\n",
       "581-600        85608\n",
       "<= 560         79110\n",
       "561-580        53692\n",
       "Missing        31194\n",
       "Exception       7422\n",
       "Name: bank_fico_buckets_20, dtype: int64"
      ]
     },
     "execution_count": 15,
     "metadata": {},
     "output_type": "execute_result"
    }
   ],
   "source": [
    "df1['bank_fico_buckets_20'].value_counts()"
   ]
  },
  {
   "cell_type": "code",
   "execution_count": 16,
   "id": "daf22547",
   "metadata": {},
   "outputs": [
    {
     "data": {
      "text/plain": [
       "I    2234217\n",
       "P    1897023\n",
       "T     932200\n",
       "R     420828\n",
       "D     262233\n",
       "C      11722\n",
       "Name: net_payment_behaviour_tripd, dtype: int64"
      ]
     },
     "execution_count": 16,
     "metadata": {},
     "output_type": "execute_result"
    }
   ],
   "source": [
    "df1['net_payment_behaviour_tripd'].value_counts()"
   ]
  },
  {
   "cell_type": "code",
   "execution_count": 17,
   "id": "880e0d1a",
   "metadata": {},
   "outputs": [
    {
     "data": {
      "text/plain": [
       "A           3512250\n",
       "I 0-6        851687\n",
       "I 13-24      595459\n",
       "I 7-12       535423\n",
       "I 25+        251312\n",
       "W             10236\n",
       "Recovery       1524\n",
       "MonthEnd        330\n",
       "Clchange          2\n",
       "Name: account_status_code, dtype: int64"
      ]
     },
     "execution_count": 17,
     "metadata": {},
     "output_type": "execute_result"
    }
   ],
   "source": [
    "df1['account_status_code'].value_counts()"
   ]
  },
  {
   "cell_type": "code",
   "execution_count": 18,
   "id": "3eb11823",
   "metadata": {},
   "outputs": [
    {
     "data": {
      "text/plain": [
       "2019-01-30    166\n",
       "2018-11-19    143\n",
       "2018-10-31    139\n",
       "2019-07-31    135\n",
       "2019-02-27    134\n",
       "             ... \n",
       "2018-03-29      1\n",
       "2018-03-30      1\n",
       "2018-05-10      1\n",
       "2018-03-08      1\n",
       "2016-07-20      1\n",
       "Name: writeoff_date, Length: 669, dtype: int64"
      ]
     },
     "execution_count": 18,
     "metadata": {},
     "output_type": "execute_result"
    }
   ],
   "source": [
    "df1['writeoff_date'].value_counts()"
   ]
  },
  {
   "cell_type": "code",
   "execution_count": 19,
   "id": "14a51411",
   "metadata": {},
   "outputs": [
    {
     "data": {
      "text/plain": [
       "B    3426334\n",
       "A    1305509\n",
       "C    1026380\n",
       "Name: industry, dtype: int64"
      ]
     },
     "execution_count": 19,
     "metadata": {},
     "output_type": "execute_result"
    }
   ],
   "source": [
    "df1['industry'].value_counts()"
   ]
  },
  {
   "cell_type": "code",
   "execution_count": 20,
   "id": "163cc601",
   "metadata": {},
   "outputs": [],
   "source": [
    "df1.drop('writeoff_date', axis=1, inplace=True)"
   ]
  },
  {
   "cell_type": "code",
   "execution_count": 21,
   "id": "a2195ffd",
   "metadata": {},
   "outputs": [],
   "source": [
    "obj = [x for x in df1.columns if df1[x].dtypes == 'O']"
   ]
  },
  {
   "cell_type": "code",
   "execution_count": 22,
   "id": "9e09ca84",
   "metadata": {},
   "outputs": [
    {
     "data": {
      "text/plain": [
       "['net_payment_behaviour_tripd',\n",
       " 'account_status_code',\n",
       " 'bank_fico_buckets_20',\n",
       " 'industry']"
      ]
     },
     "execution_count": 22,
     "metadata": {},
     "output_type": "execute_result"
    }
   ],
   "source": [
    "obj"
   ]
  },
  {
   "cell_type": "code",
   "execution_count": 23,
   "id": "3ff0e975",
   "metadata": {},
   "outputs": [],
   "source": [
    "df2 = df1.copy()\n",
    "df2 = pd.get_dummies(data=df2, columns=obj)"
   ]
  },
  {
   "cell_type": "code",
   "execution_count": null,
   "id": "7b383c1c",
   "metadata": {},
   "outputs": [],
   "source": [
    "import matplotlib.pyplot as plt\n",
    "import seaborn as sns\n",
    "plt.figure(figsize=(20,20))\n",
    "cor = df2.corr()\n",
    "cor1 = cor[cor>0.5]\n",
    "sns.heatmap(cor1, annot= True)"
   ]
  },
  {
   "cell_type": "code",
   "execution_count": null,
   "id": "c19662f7",
   "metadata": {},
   "outputs": [],
   "source": [
    "def find_correlation(df, thresh=0.75):        \n",
    "    corrMatrix = df.corr()\n",
    "    corrMatrix.loc[:,:] =  np.tril(corrMatrix, k=-1)\n",
    "\n",
    "    already_in = set()\n",
    "    result = []\n",
    "\n",
    "    for col in corrMatrix:\n",
    "        perfect_corr = corrMatrix[col][corrMatrix[col] > thresh].index.tolist()\n",
    "        if perfect_corr and col not in already_in:\n",
    "            already_in.update(set(perfect_corr))\n",
    "            perfect_corr.append(col)\n",
    "            result.append(perfect_corr)\n",
    "\n",
    "\n",
    "    select_nested = [f[1:] for f in result]\n",
    "    select_flat = [i for j in select_nested for i in j]\n",
    "    return select_flat"
   ]
  },
  {
   "cell_type": "code",
   "execution_count": null,
   "id": "4e6614fa",
   "metadata": {},
   "outputs": [],
   "source": [
    "find_correlation(df2)"
   ]
  },
  {
   "cell_type": "code",
   "execution_count": null,
   "id": "65ffb297",
   "metadata": {},
   "outputs": [],
   "source": [
    "df2.drop(['snapshot',\n",
    " 'charge_off_reason_code',\n",
    " 'active',\n",
    " 'fee_reversals',\n",
    " 'writeoff_type_aged'], axis = 1, inplace=True)"
   ]
  },
  {
   "cell_type": "code",
   "execution_count": null,
   "id": "eaa1b4c1",
   "metadata": {},
   "outputs": [],
   "source": [
    "df3 = df2.copy()\n",
    "df4 = df3.groupby('mth_code').sum()"
   ]
  },
  {
   "cell_type": "code",
   "execution_count": null,
   "id": "f40c2876",
   "metadata": {},
   "outputs": [],
   "source": [
    "df4.shape"
   ]
  },
  {
   "cell_type": "code",
   "execution_count": null,
   "id": "03b7cf88",
   "metadata": {},
   "outputs": [],
   "source": [
    "df4.head()"
   ]
  },
  {
   "cell_type": "code",
   "execution_count": null,
   "id": "005651f1",
   "metadata": {},
   "outputs": [],
   "source": [
    "df5 = df4.reset_index()"
   ]
  },
  {
   "cell_type": "code",
   "execution_count": null,
   "id": "e1a61bb0",
   "metadata": {},
   "outputs": [],
   "source": []
  }
 ],
 "metadata": {
  "kernelspec": {
   "display_name": "Python 3 (ipykernel)",
   "language": "python",
   "name": "python3"
  },
  "language_info": {
   "codemirror_mode": {
    "name": "ipython",
    "version": 3
   },
   "file_extension": ".py",
   "mimetype": "text/x-python",
   "name": "python",
   "nbconvert_exporter": "python",
   "pygments_lexer": "ipython3",
   "version": "3.9.13"
  }
 },
 "nbformat": 4,
 "nbformat_minor": 5
}
